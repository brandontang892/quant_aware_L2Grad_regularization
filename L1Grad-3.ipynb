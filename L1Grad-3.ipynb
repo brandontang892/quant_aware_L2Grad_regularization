{
 "cells": [
  {
   "cell_type": "code",
   "execution_count": null,
   "metadata": {
    "gradient": {}
   },
   "outputs": [],
   "source": [
    "import copy\n",
    "from collections import OrderedDict\n",
    "\n",
    "import sys\n",
    "import time\n",
    "import os\n",
    "import gc\n",
    "import math\n",
    "import torch\n",
    "import torch.nn as nn\n",
    "import torchvision\n",
    "import torchvision.transforms as transforms\n",
    "import torch.nn.functional as F\n",
    "import matplotlib.pyplot as plt\n",
    "from torch.autograd import Variable\n",
    "\n",
    "from torch import optim\n",
    "import torch.nn.functional as F\n",
    "import numpy as np"
   ]
  },
  {
   "cell_type": "code",
   "execution_count": null,
   "metadata": {
    "gradient": {}
   },
   "outputs": [],
   "source": [
    "from models import conv_block, ConvNet"
   ]
  },
  {
   "cell_type": "code",
   "execution_count": null,
   "metadata": {
    "gradient": {}
   },
   "outputs": [],
   "source": [
    "from utils import count_parameters, L1Grad, L2Grad, LPGrad, create_activation_gradients, create_weight_gradients"
   ]
  },
  {
   "cell_type": "code",
   "execution_count": null,
   "metadata": {
    "gradient": {}
   },
   "outputs": [
    {
     "name": "stdout",
     "output_type": "stream",
     "text": [
      "Files already downloaded and verified\n",
      "Files already downloaded and verified\n"
     ]
    }
   ],
   "source": [
    "# Load training data\n",
    "transform_train = transforms.Compose([                                   \n",
    "    transforms.RandomCrop(32, padding=4),                                       \n",
    "    transforms.RandomHorizontalFlip(),\n",
    "    transforms.ToTensor(),\n",
    "    transforms.Normalize((0.4914, 0.4822, 0.4465), (0.2023, 0.1994, 0.2010)),\n",
    "])\n",
    "trainset = torchvision.datasets.CIFAR10(root='./data', train=True, download=True, transform=transform_train)\n",
    "trainloader = torch.utils.data.DataLoader(trainset, batch_size=128, shuffle=True, num_workers=2)\n",
    "\n",
    "# Load testing data\n",
    "transform_test = transforms.Compose([                                           \n",
    "    transforms.ToTensor(),\n",
    "    transforms.Normalize((0.4914, 0.4822, 0.4465), (0.2023, 0.1994, 0.2010)),\n",
    "])\n",
    "testset = torchvision.datasets.CIFAR10(root='./data', train=False, download=True, transform=transform_test)\n",
    "testloader = torch.utils.data.DataLoader(testset, batch_size=128, shuffle=False)"
   ]
  },
  {
   "cell_type": "code",
   "execution_count": null,
   "metadata": {
    "gradient": {}
   },
   "outputs": [
    {
     "name": "stdout",
     "output_type": "stream",
     "text": [
      "1212778\n"
     ]
    }
   ],
   "source": [
    "torch.manual_seed(43) # to give stable randomness \n",
    "\n",
    "device = 'cuda'\n",
    "net = ConvNet()\n",
    "net = net.to(device)\n",
    "\n",
    "print(count_parameters(net))"
   ]
  },
  {
   "cell_type": "code",
   "execution_count": null,
   "metadata": {
    "gradient": {}
   },
   "outputs": [],
   "source": [
    "# training function"
   ]
  },
  {
   "cell_type": "code",
   "execution_count": null,
   "metadata": {
    "gradient": {},
    "jupyter": {
     "source_hidden": true
    }
   },
   "outputs": [],
   "source": [
    "def train(net, trainloader, criterion, regularizer, optimizer, epoch, train_loss_tracker, train_acc_tracker):\n",
    "    net.train()\n",
    "    train_loss = 0\n",
    "    correct = 0\n",
    "    total = 0\n",
    "    for batch_idx, (inputs, targets) in enumerate(trainloader):\n",
    "        inputs, targets = inputs.to(device), targets.to(device)\n",
    "        inputs.requires_grad=True\n",
    "        optimizer.zero_grad()\n",
    "        \n",
    "        # forward pass\n",
    "        outputs, activations = net(inputs)\n",
    "        loss = criterion(outputs, targets)      # unregularized loss\n",
    "        \n",
    "        a_grad_dict = create_activation_gradients(activations, loss)\n",
    "        w_grad_dict = create_weight_gradients(net, loss, model_type='convnet')\n",
    "        \n",
    "        combined_loss = loss\n",
    "        if regularizer:\n",
    "            if isinstance(regularizer, L1Grad) or isinstance(regularizer, L2Grad):\n",
    "                combined_loss += regularizer(list(w_grad_dict.values()), list(a_grad_dict.values()))\n",
    "              \n",
    "        # backward pass\n",
    "        combined_loss.backward(retain_graph=False)\n",
    "        \n",
    "        # update optimizer state\n",
    "        optimizer.step()       # optimizer shouldn't contain inputs, or else inputs.requires_grad=True will make the input itself change...\n",
    "        \n",
    "        # compute average loss\n",
    "        train_loss += combined_loss.item()\n",
    "        train_loss_tracker.append(combined_loss.item())\n",
    "        loss = train_loss / (batch_idx + 1)\n",
    "        \n",
    "        # compute accuracy\n",
    "        _, predicted = outputs.max(1)\n",
    "        total += targets.size(0)\n",
    "        correct += predicted.eq(targets).sum().item()\n",
    "        acc = 100. * correct / total\n",
    "        \n",
    "        # Print status\n",
    "        sys.stdout.write(f'\\rEpoch {epoch}: Train Loss: {loss:.3f}' +  \n",
    "                         f'| Train Acc: {acc:.3f}')\n",
    "        sys.stdout.flush()\n",
    "        \n",
    "    train_acc_tracker.append(acc)\n",
    "    sys.stdout.flush()\n"
   ]
  },
  {
   "cell_type": "code",
   "execution_count": null,
   "metadata": {
    "gradient": {}
   },
   "outputs": [],
   "source": [
    "# testing function "
   ]
  },
  {
   "cell_type": "code",
   "execution_count": null,
   "metadata": {
    "gradient": {},
    "jupyter": {
     "source_hidden": true
    }
   },
   "outputs": [],
   "source": [
    "def test(net, testloader, criterion, regularizer, epoch, test_loss_tracker, test_acc_tracker):\n",
    "    global best_acc\n",
    "    best_acc = 0 \n",
    "    net.eval()\n",
    "    test_loss = 0\n",
    "    correct = 0\n",
    "    total = 0\n",
    "\n",
    "    for batch_idx, (inputs, targets) in enumerate(testloader):\n",
    "        inputs, targets = inputs.to(device), targets.to(device)\n",
    "        inputs.requires_grad=True\n",
    "        \n",
    "        # forward pass\n",
    "        outputs, activations = net(inputs)\n",
    "        loss = criterion(outputs, targets)      # unregularized loss\n",
    "        \n",
    "        a_grad_dict = create_activation_gradients(activations, loss)\n",
    "        w_grad_dict = create_weight_gradients(net, loss, model_type='convnet')\n",
    "        \n",
    "        combined_loss = loss\n",
    "        if regularizer:\n",
    "            if isinstance(regularizer, L1Grad) or isinstance(regularizer, L2Grad):\n",
    "                combined_loss += regularizer(list(w_grad_dict.values()), list(a_grad_dict.values()))        \n",
    "        \n",
    "        test_loss += combined_loss.item()\n",
    "        test_loss_tracker.append(combined_loss.item())\n",
    "        _, predicted = outputs.max(1)\n",
    "        total += targets.size(0)\n",
    "        correct += predicted.eq(targets).sum().item()\n",
    "\n",
    "        loss = test_loss / (batch_idx + 1)\n",
    "        acc = 100.* correct / total\n",
    "    sys.stdout.write(f' | Test Loss: {loss:.3f} | Test Acc: {acc:.3f}\\n')\n",
    "    sys.stdout.flush()\n",
    "    \n",
    "    # Save checkpoint.\n",
    "    acc = 100.*correct/total\n",
    "    test_acc_tracker.append(acc)\n",
    "    if acc > best_acc:\n",
    "        state = {\n",
    "            'net': net.state_dict(),\n",
    "            'acc': acc,\n",
    "            'epoch': epoch,\n",
    "        }\n",
    "        if not os.path.isdir('checkpoint'):\n",
    "            os.mkdir('checkpoint')\n",
    "        torch.save(state, './checkpoint/ckpt.pth')\n",
    "        best_acc = acc  "
   ]
  },
  {
   "cell_type": "code",
   "execution_count": null,
   "metadata": {
    "gradient": {}
   },
   "outputs": [],
   "source": [
    "train_loss_tracker, train_acc_tracker = [], []\n",
    "test_loss_tracker, test_acc_tracker = [], []\n",
    "\n",
    "lr = 0.1\n",
    "lmbda = 0.01\n",
    "\n",
    "epochs = 5\n",
    "\n",
    "optimizer = torch.optim.SGD(net.parameters(), lr=lr, momentum=0.9, weight_decay=5e-4)"
   ]
  },
  {
   "cell_type": "code",
   "execution_count": null,
   "metadata": {
    "gradient": {}
   },
   "outputs": [],
   "source": [
    "criterion = nn.CrossEntropyLoss() #CustomCE()"
   ]
  },
  {
   "cell_type": "code",
   "execution_count": null,
   "metadata": {
    "gradient": {}
   },
   "outputs": [],
   "source": [
    "regularizer = L1Grad(lmbda)\n",
    "regularizer2= L2Grad(lmbda)\n",
    "\n",
    "regula = LPGrad(lmbda, P=1)"
   ]
  },
  {
   "cell_type": "code",
   "execution_count": null,
   "metadata": {
    "gradient": {}
   },
   "outputs": [
    {
     "name": "stdout",
     "output_type": "stream",
     "text": [
      "Training for 5 epochs, with learning rate 0.1 and lambda 0.01\n",
      "Epoch 0: Train Loss: 2.536| Train Acc: 11.7781 | Test Loss: 2.238 | Test Acc: 13.200\n",
      "Training time: 180.56733226776123 seconds\n",
      "Epoch 1: Train Loss: 2.266| Train Acc: 14.314 | Test Loss: 2.123 | Test Acc: 16.560\n",
      "Training time: 179.4168622493744 seconds\n",
      "Epoch 2: Train Loss: 2.178| Train Acc: 17.607"
     ]
    },
    {
     "ename": "KeyboardInterrupt",
     "evalue": "",
     "output_type": "error",
     "traceback": [
      "\u001b[0;31m---------------------------------------------------------------------------\u001b[0m",
      "\u001b[0;31mKeyboardInterrupt\u001b[0m                         Traceback (most recent call last)",
      "\u001b[0;32m<ipython-input-10-1bbc1b629518>\u001b[0m in \u001b[0;36m<module>\u001b[0;34m\u001b[0m\n\u001b[1;32m      5\u001b[0m     \u001b[0mep_start_time\u001b[0m \u001b[0;34m=\u001b[0m \u001b[0mtime\u001b[0m\u001b[0;34m.\u001b[0m\u001b[0mtime\u001b[0m\u001b[0;34m(\u001b[0m\u001b[0;34m)\u001b[0m\u001b[0;34m\u001b[0m\u001b[0;34m\u001b[0m\u001b[0m\n\u001b[1;32m      6\u001b[0m \u001b[0;34m\u001b[0m\u001b[0m\n\u001b[0;32m----> 7\u001b[0;31m     \u001b[0mtrain_alt\u001b[0m\u001b[0;34m(\u001b[0m\u001b[0mnet\u001b[0m\u001b[0;34m,\u001b[0m \u001b[0mtrainloader\u001b[0m\u001b[0;34m,\u001b[0m \u001b[0mcriterion\u001b[0m\u001b[0;34m,\u001b[0m \u001b[0mregula\u001b[0m\u001b[0;34m,\u001b[0m \u001b[0moptimizer\u001b[0m\u001b[0;34m,\u001b[0m \u001b[0mepoch\u001b[0m\u001b[0;34m,\u001b[0m \u001b[0mtrain_loss_tracker\u001b[0m\u001b[0;34m,\u001b[0m \u001b[0mtrain_acc_tracker\u001b[0m\u001b[0;34m)\u001b[0m\u001b[0;34m\u001b[0m\u001b[0;34m\u001b[0m\u001b[0m\n\u001b[0m\u001b[1;32m      8\u001b[0m     \u001b[0mtest_alt\u001b[0m\u001b[0;34m(\u001b[0m\u001b[0mnet\u001b[0m\u001b[0;34m,\u001b[0m \u001b[0mtestloader\u001b[0m\u001b[0;34m,\u001b[0m \u001b[0mcriterion\u001b[0m\u001b[0;34m,\u001b[0m \u001b[0mregula\u001b[0m\u001b[0;34m,\u001b[0m \u001b[0mepoch\u001b[0m\u001b[0;34m,\u001b[0m \u001b[0mtest_loss_tracker\u001b[0m\u001b[0;34m,\u001b[0m \u001b[0mtest_acc_tracker\u001b[0m\u001b[0;34m)\u001b[0m\u001b[0;34m\u001b[0m\u001b[0;34m\u001b[0m\u001b[0m\n\u001b[1;32m      9\u001b[0m     \u001b[0;31m#scheduler.step()\u001b[0m\u001b[0;34m\u001b[0m\u001b[0;34m\u001b[0m\u001b[0;34m\u001b[0m\u001b[0m\n",
      "\u001b[0;32m<ipython-input-9-e9d223e1dff0>\u001b[0m in \u001b[0;36mtrain_alt\u001b[0;34m(net, trainloader, criterion, regularizer, optimizer, epoch, train_loss_tracker, train_acc_tracker)\u001b[0m\n\u001b[1;32m     37\u001b[0m             \u001b[0;32mif\u001b[0m \u001b[0misinstance\u001b[0m\u001b[0;34m(\u001b[0m\u001b[0mregularizer\u001b[0m\u001b[0;34m,\u001b[0m \u001b[0mL1Grad\u001b[0m\u001b[0;34m)\u001b[0m \u001b[0;32mor\u001b[0m \u001b[0misinstance\u001b[0m\u001b[0;34m(\u001b[0m\u001b[0mregularizer\u001b[0m\u001b[0;34m,\u001b[0m \u001b[0mL2Grad\u001b[0m\u001b[0;34m)\u001b[0m \u001b[0;32mor\u001b[0m \u001b[0misinstance\u001b[0m\u001b[0;34m(\u001b[0m\u001b[0mregularizer\u001b[0m\u001b[0;34m,\u001b[0m \u001b[0mLPGrad\u001b[0m\u001b[0;34m)\u001b[0m\u001b[0;34m:\u001b[0m\u001b[0;34m\u001b[0m\u001b[0;34m\u001b[0m\u001b[0m\n\u001b[1;32m     38\u001b[0m                 \u001b[0mreg_term\u001b[0m \u001b[0;34m=\u001b[0m \u001b[0mregularizer\u001b[0m\u001b[0;34m(\u001b[0m \u001b[0mw_grad_list\u001b[0m\u001b[0;34m,\u001b[0m \u001b[0ma_grad_list\u001b[0m \u001b[0;34m)\u001b[0m\u001b[0;34m\u001b[0m\u001b[0;34m\u001b[0m\u001b[0m\n\u001b[0;32m---> 39\u001b[0;31m                 \u001b[0mreg_term\u001b[0m\u001b[0;34m.\u001b[0m\u001b[0mbackward\u001b[0m\u001b[0;34m(\u001b[0m\u001b[0mretain_graph\u001b[0m\u001b[0;34m=\u001b[0m\u001b[0;32mFalse\u001b[0m\u001b[0;34m)\u001b[0m\u001b[0;34m\u001b[0m\u001b[0;34m\u001b[0m\u001b[0m\n\u001b[0m\u001b[1;32m     40\u001b[0m \u001b[0;34m\u001b[0m\u001b[0m\n\u001b[1;32m     41\u001b[0m         \u001b[0;31m#combined_loss.backward(create_graph=False, retain_graph=False)\u001b[0m\u001b[0;34m\u001b[0m\u001b[0;34m\u001b[0m\u001b[0;34m\u001b[0m\u001b[0m\n",
      "\u001b[0;32m/opt/conda/lib/python3.8/site-packages/torch/tensor.py\u001b[0m in \u001b[0;36mbackward\u001b[0;34m(self, gradient, retain_graph, create_graph, inputs)\u001b[0m\n\u001b[1;32m    223\u001b[0m                 \u001b[0mcreate_graph\u001b[0m\u001b[0;34m=\u001b[0m\u001b[0mcreate_graph\u001b[0m\u001b[0;34m,\u001b[0m\u001b[0;34m\u001b[0m\u001b[0;34m\u001b[0m\u001b[0m\n\u001b[1;32m    224\u001b[0m                 inputs=inputs)\n\u001b[0;32m--> 225\u001b[0;31m         \u001b[0mtorch\u001b[0m\u001b[0;34m.\u001b[0m\u001b[0mautograd\u001b[0m\u001b[0;34m.\u001b[0m\u001b[0mbackward\u001b[0m\u001b[0;34m(\u001b[0m\u001b[0mself\u001b[0m\u001b[0;34m,\u001b[0m \u001b[0mgradient\u001b[0m\u001b[0;34m,\u001b[0m \u001b[0mretain_graph\u001b[0m\u001b[0;34m,\u001b[0m \u001b[0mcreate_graph\u001b[0m\u001b[0;34m,\u001b[0m \u001b[0minputs\u001b[0m\u001b[0;34m=\u001b[0m\u001b[0minputs\u001b[0m\u001b[0;34m)\u001b[0m\u001b[0;34m\u001b[0m\u001b[0;34m\u001b[0m\u001b[0m\n\u001b[0m\u001b[1;32m    226\u001b[0m \u001b[0;34m\u001b[0m\u001b[0m\n\u001b[1;32m    227\u001b[0m     \u001b[0;32mdef\u001b[0m \u001b[0mregister_hook\u001b[0m\u001b[0;34m(\u001b[0m\u001b[0mself\u001b[0m\u001b[0;34m,\u001b[0m \u001b[0mhook\u001b[0m\u001b[0;34m)\u001b[0m\u001b[0;34m:\u001b[0m\u001b[0;34m\u001b[0m\u001b[0;34m\u001b[0m\u001b[0m\n",
      "\u001b[0;32m/opt/conda/lib/python3.8/site-packages/torch/autograd/__init__.py\u001b[0m in \u001b[0;36mbackward\u001b[0;34m(tensors, grad_tensors, retain_graph, create_graph, grad_variables, inputs)\u001b[0m\n\u001b[1;32m    143\u001b[0m         \u001b[0mretain_graph\u001b[0m \u001b[0;34m=\u001b[0m \u001b[0mcreate_graph\u001b[0m\u001b[0;34m\u001b[0m\u001b[0;34m\u001b[0m\u001b[0m\n\u001b[1;32m    144\u001b[0m \u001b[0;34m\u001b[0m\u001b[0m\n\u001b[0;32m--> 145\u001b[0;31m     Variable._execution_engine.run_backward(\n\u001b[0m\u001b[1;32m    146\u001b[0m         \u001b[0mtensors\u001b[0m\u001b[0;34m,\u001b[0m \u001b[0mgrad_tensors_\u001b[0m\u001b[0;34m,\u001b[0m \u001b[0mretain_graph\u001b[0m\u001b[0;34m,\u001b[0m \u001b[0mcreate_graph\u001b[0m\u001b[0;34m,\u001b[0m \u001b[0minputs\u001b[0m\u001b[0;34m,\u001b[0m\u001b[0;34m\u001b[0m\u001b[0;34m\u001b[0m\u001b[0m\n\u001b[1;32m    147\u001b[0m         allow_unreachable=True, accumulate_grad=True)  # allow_unreachable flag\n",
      "\u001b[0;31mKeyboardInterrupt\u001b[0m: "
     ]
    }
   ],
   "source": [
    "print(f'Training for {epochs} epochs, with learning rate {lr} and lambda {lmbda}')\n",
    "\n",
    "start_time = time.time()\n",
    "for epoch in range(0, epochs):\n",
    "    ep_start_time = time.time()\n",
    "    \n",
    "    train_alt(net, trainloader, criterion, regula, optimizer, epoch, train_loss_tracker, train_acc_tracker)\n",
    "    test_alt(net, testloader, criterion, regula, epoch, test_loss_tracker, test_acc_tracker)\n",
    "    #scheduler.step()\n",
    "    \n",
    "    ep_end_time = time.time()\n",
    "    epoch_time = ep_end_time - ep_start_time\n",
    "    print(f\"Training time: {epoch_time} seconds\")\n",
    "\n",
    "total_time = time.time() - start_time\n",
    "print('Total training time: {} seconds'.format(total_time))"
   ]
  },
  {
   "cell_type": "code",
   "execution_count": null,
   "metadata": {
    "gradient": {}
   },
   "outputs": [],
   "source": [
    "def train_alt(net, trainloader, criterion, regularizer, optimizer, epoch, train_loss_tracker, train_acc_tracker):\n",
    "    net.train()\n",
    "    train_loss = 0\n",
    "    correct = 0\n",
    "    total = 0\n",
    "    for batch_idx, (inputs, targets) in enumerate(trainloader):\n",
    "        inputs, targets = inputs.to(device), targets.to(device)\n",
    "        #inputs.requires_grad=True\n",
    "        optimizer.zero_grad()\n",
    "        \n",
    "        # forward pass\n",
    "        outputs, activations = net(inputs)\n",
    "        loss = criterion(outputs, targets)      # unregularized loss\n",
    "        \n",
    "        for a in activations:\n",
    "            #a.requires_grad=True\n",
    "            a.retain_grad()\n",
    "        \n",
    "        # create higher order autograd graph\n",
    "        two_backward_required = not (regularizer == None)\n",
    "        loss.backward(create_graph=two_backward_required, retain_graph=two_backward_required)    # forces activations, weights to have higher order gradients\n",
    "        \n",
    "        w_grad_list = []\n",
    "        for m in net.modules():\n",
    "            if isinstance(m, nn.Conv2d) or isinstance(m, nn.Linear):\n",
    "                w_grad_list.append(m.weight.grad)\n",
    "        a_grad_list = []\n",
    "        for a in activations:\n",
    "            a_grad_list.append(a.grad)\n",
    "            \n",
    "        #optimizer.zero_grad()\n",
    "        \n",
    "        #combined_loss = loss\n",
    "        # second backward pass\n",
    "        reg_term =0\n",
    "        if regularizer:\n",
    "            if isinstance(regularizer, L1Grad) or isinstance(regularizer, L2Grad) or isinstance(regularizer, LPGrad):\n",
    "                reg_term = regularizer( w_grad_list, a_grad_list )\n",
    "                reg_term.backward(retain_graph=False)\n",
    "        \n",
    "        #combined_loss.backward(create_graph=False, retain_graph=False)\n",
    "        \n",
    "        \n",
    "        # update optimizer state\n",
    "        optimizer.step()       # optimizer shouldn't contain inputs, or else inputs.requires_grad=True will make the input itself change...\n",
    "        \n",
    "#         # take apart computation graph\n",
    "#         with torch.no_grad():\n",
    "#             if regularizer:\n",
    "#                 reg_term.backward()\n",
    "\n",
    "#         try:\n",
    "#             loss.backward(retain_graph=False)\n",
    "#         except:\n",
    "#             pass\n",
    "\n",
    "        \n",
    "        \n",
    "        \n",
    "        # compute average loss\n",
    "        train_loss += (loss+reg_term).item()\n",
    "        train_loss_tracker.append((loss+reg_term).item())\n",
    "        loss_value = train_loss / (batch_idx + 1)\n",
    "        \n",
    "        # preventing memory leak\n",
    "        optimizer.zero_grad(True)\n",
    "        inputs.detach()\n",
    "        loss.grad=None\n",
    "        loss.detach()\n",
    "        if regularizer:\n",
    "            reg_term.grad=None\n",
    "            reg_term.detach()\n",
    "#         for x in w_grad_list:\n",
    "#             x.detach()\n",
    "#         for x in a_grad_list:\n",
    "#             x.detach()\n",
    "#         del w_grad_list; del a_grad_list; del loss; del reg_term\n",
    "        \n",
    "        \n",
    "        torch.cuda.empty_cache()\n",
    "        \n",
    "        # compute accuracy\n",
    "        _, predicted = outputs.max(1)\n",
    "        total += targets.size(0)\n",
    "        correct += predicted.eq(targets).sum().item()\n",
    "        acc = 100. * correct / total\n",
    "        \n",
    "        # Print status\n",
    "        sys.stdout.write(f'\\rEpoch {epoch}: Train Loss: {loss_value:.3f}' +  \n",
    "                         f'| Train Acc: {acc:.3f}' )  # +f'| Batch Index: {batch_idx}' + f'| Num_GC: {count_gc_objects()}')\n",
    "        sys.stdout.flush()\n",
    "        \n",
    "        #time.sleep(5)\n",
    "        \n",
    "    train_acc_tracker.append(acc)\n",
    "    sys.stdout.flush()\n",
    "    \n",
    "def test_alt(net, testloader, criterion, regularizer, epoch, test_loss_tracker, test_acc_tracker):\n",
    "    global best_acc\n",
    "    best_acc = 0 \n",
    "    net.eval()\n",
    "    test_loss = 0\n",
    "    correct = 0\n",
    "    total = 0\n",
    "\n",
    "    for batch_idx, (inputs, targets) in enumerate(testloader):\n",
    "        inputs, targets = inputs.to(device), targets.to(device)\n",
    "        optimizer.zero_grad()\n",
    "        \n",
    "        # forward pass\n",
    "        outputs, activations = net(inputs)\n",
    "        loss = criterion(outputs, targets)      # unregularized loss\n",
    "        \n",
    "        for a in activations:\n",
    "            a.retain_grad()\n",
    "            \n",
    "        loss.backward()\n",
    "        \n",
    "        w_grad_list = []\n",
    "        for m in net.modules():\n",
    "            if isinstance(m, nn.Conv2d) or isinstance(m, nn.Linear):\n",
    "                w_grad_list.append(m.weight.grad)\n",
    "        a_grad_list = []\n",
    "        for a in activations:\n",
    "            a_grad_list.append(a.grad)\n",
    "        \n",
    "        reg_term =0\n",
    "        if regularizer:\n",
    "            if isinstance(regularizer, L1Grad) or isinstance(regularizer, L2Grad) or isinstance(regularizer, LPGrad):\n",
    "                reg_term = regularizer( w_grad_list, a_grad_list )  \n",
    "        \n",
    "        test_loss += (loss+reg_term).item()\n",
    "        test_loss_tracker.append((loss+reg_term).item())\n",
    "        _, predicted = outputs.max(1)\n",
    "        total += targets.size(0)\n",
    "        correct += predicted.eq(targets).sum().item()\n",
    "\n",
    "        loss_value = test_loss / (batch_idx + 1)\n",
    "        acc = 100.* correct / total\n",
    "        \n",
    "        # preventing memory leak\n",
    "        optimizer.zero_grad(True)\n",
    "        inputs.grad=None\n",
    "        inputs.detach()\n",
    "        loss.grad=None\n",
    "        loss.detach()\n",
    "        if regularizer:\n",
    "            reg_term.grad=None\n",
    "            reg_term.detach()\n",
    "        \n",
    "        # empty cache\n",
    "        torch.cuda.empty_cache()        \n",
    "        \n",
    "    sys.stdout.write(f' | Test Loss: {loss:.3f} | Test Acc: {acc:.3f}\\n')\n",
    "    sys.stdout.flush()\n",
    "    \n",
    "    # Save checkpoint.\n",
    "    acc = 100.*correct/total\n",
    "    test_acc_tracker.append(acc)\n",
    "    if acc > best_acc:\n",
    "        state = {\n",
    "            'net': net.state_dict(),\n",
    "            'acc': acc,\n",
    "            'epoch': epoch,\n",
    "        }\n",
    "        if not os.path.isdir('checkpoint'):\n",
    "            os.mkdir('checkpoint')\n",
    "        torch.save(state, './checkpoint/ckpt.pth')\n",
    "        best_acc = acc  "
   ]
  },
  {
   "cell_type": "code",
   "execution_count": null,
   "metadata": {
    "gradient": {}
   },
   "outputs": [],
   "source": [
    "def count_gc_objects():\n",
    "    count = 0\n",
    "    for obj in gc.get_objects():\n",
    "        try:\n",
    "            if torch.is_tensor(obj) or (hasattr(obj, 'data') and torch.is_tensor(obj.data)):\n",
    "                #print(type(obj), obj.size())\n",
    "                count += 1\n",
    "        except:\n",
    "            pass\n",
    "    return count"
   ]
  },
  {
   "cell_type": "code",
   "execution_count": null,
   "metadata": {
    "gradient": {}
   },
   "outputs": [],
   "source": [
    "for obj in gc.get_objects():\n",
    "    try:\n",
    "        if torch.is_tensor(obj) or (hasattr(obj, 'data') and torch.is_tensor(obj.data)):\n",
    "            print(type(obj), obj.size())\n",
    "    except:\n",
    "        pass"
   ]
  },
  {
   "cell_type": "code",
   "execution_count": null,
   "metadata": {
    "gradient": {}
   },
   "outputs": [],
   "source": [
    "for obj in gc.get_objects():\n",
    "    try:\n",
    "        if torch.is_tensor(obj) or (hasattr(obj, 'data') and torch.is_tensor(obj.data)):\n",
    "            print(type(obj), obj.size())\n",
    "    except:\n",
    "        pass"
   ]
  },
  {
   "cell_type": "code",
   "execution_count": null,
   "metadata": {
    "gradient": {}
   },
   "outputs": [],
   "source": []
  },
  {
   "cell_type": "code",
   "execution_count": null,
   "metadata": {
    "gradient": {}
   },
   "outputs": [],
   "source": []
  }
 ],
 "metadata": {
  "kernelspec": {
   "display_name": "Python 3",
   "language": "python",
   "name": "python3"
  },
  "language_info": {
   "codemirror_mode": {
    "name": "ipython",
    "version": 3
   },
   "file_extension": ".py",
   "mimetype": "text/x-python",
   "name": "python",
   "nbconvert_exporter": "python",
   "pygments_lexer": "ipython3",
   "version": "3.8.5"
  }
 },
 "nbformat": 4,
 "nbformat_minor": 4
}
